{
  "cells": [
    {
      "cell_type": "raw",
      "metadata": {},
      "source": [
        "---\n",
        "title: Example\n",
        "format: html\n",
        "---"
      ],
      "id": "b2e55192"
    },
    {
      "cell_type": "markdown",
      "metadata": {},
      "source": [
        "# Time Series\n",
        "- Data that is dependent on time\n",
        "- i.e this data is non-tabular. It has an ordering to it.\n",
        "\n",
        "\n",
        "<p> Ex. Meals I have eaten vs. Meals I eat throughout the day </p>\n",
        "- One is a dictionary of my meals, in no particular order.\n",
        "- The other is a journey of what I eat. I eat an sandwich at noon after eating eggs in the morning.\n",
        "\n",
        "<!-- ## Technical Definition -->\n",
        "<!-- $$ y_{t} = e_{t}*y_{t-1} $$ -->\n",
        "\n",
        "## Potential Properties\n",
        "- Stationarity: \n",
        "- Seasonality\n",
        "- Autocorrelation\n",
        "\n",
        "### Decomposition\n"
      ],
      "id": "a01585df"
    },
    {
      "cell_type": "code",
      "metadata": {},
      "source": [
        "import pandas as pd\n",
        "import os \n",
        "# from time-series_files.clean_data import check\n",
        "\n",
        "df = pd.read_csv(os.path.join(os.getcwd(),'Hourly_clean2.csv'))\n",
        "# check(df)\n",
        "df.describe()"
      ],
      "id": "ea200869",
      "execution_count": null,
      "outputs": []
    },
    {
      "cell_type": "code",
      "metadata": {},
      "source": [
        "print(df['datetime'].nunique())\n",
        "print(df['Date'].nunique())\n",
        "print(df['Time'].nunique())"
      ],
      "id": "755eedc2",
      "execution_count": null,
      "outputs": []
    },
    {
      "cell_type": "code",
      "metadata": {},
      "source": [
        "print(df.dtypes)"
      ],
      "id": "00a3b7d1",
      "execution_count": null,
      "outputs": []
    },
    {
      "cell_type": "markdown",
      "metadata": {},
      "source": [
        "### Odd Number of Dates. We would expect 365\n"
      ],
      "id": "4fda6b4f"
    },
    {
      "cell_type": "code",
      "metadata": {},
      "source": [
        "# print(df.groupby(by =  ['Date','Time']).mean())\n",
        "# print(df['Time'].avg())\n",
        "print(df['datetime'].mean())"
      ],
      "id": "21d64703",
      "execution_count": null,
      "outputs": []
    }
  ],
  "metadata": {
    "kernelspec": {
      "name": "python3",
      "language": "python",
      "display_name": "Python 3 (ipykernel)"
    }
  },
  "nbformat": 4,
  "nbformat_minor": 5
}