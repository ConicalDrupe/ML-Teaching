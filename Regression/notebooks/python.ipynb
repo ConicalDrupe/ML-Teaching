{
  "cells": [
    {
      "cell_type": "raw",
      "metadata": {},
      "source": [
        "---\n",
        "title: Regression basics\n",
        "format: html\n",
        "---"
      ],
      "id": "e358401c"
    },
    {
      "cell_type": "code",
      "metadata": {},
      "source": [
        "import os\n",
        "import pandas as pd\n",
        "\n",
        "\n",
        "# Load one directory back\n",
        "one_back = os.path.normpath(os.getcwd() + os.sep + os.pardir)\n",
        "\n",
        "# Load data\n",
        "df = pd.read_csv(os.path.join(one_back,'housing.csv'))"
      ],
      "id": "2d78290c",
      "execution_count": null,
      "outputs": []
    },
    {
      "cell_type": "code",
      "metadata": {},
      "source": [
        "df.info()\n",
        "df.describe()"
      ],
      "id": "6b435e81",
      "execution_count": null,
      "outputs": []
    },
    {
      "cell_type": "code",
      "metadata": {},
      "source": [
        "print(df.shape)\n",
        "df.dtypes"
      ],
      "id": "6c53d158",
      "execution_count": null,
      "outputs": []
    },
    {
      "cell_type": "code",
      "metadata": {},
      "source": [
        "print(df.isna().any()) # print what columns have na\n",
        "init = df.shape\n",
        "df.dropna(inplace=True)\n",
        "after = df.shape\n",
        "print(yijdasdfddsdssadfgff'Lost'"
      ],
      "id": "7f05df69",
      "execution_count": null,
      "outputs": []
    },
    {
      "cell_type": "markdown",
      "metadata": {},
      "source": [
        "# Insert EDA Here\n",
        "## I may prefer R here\n",
        "- PairPlots\n",
        "- Coorelation Matrices\n",
        "- Scatter Plots\n",
        "- Historgram, with grouping\n"
      ],
      "id": "2e539596"
    },
    {
      "cell_type": "code",
      "metadata": {},
      "source": [
        "df_mix = df.sample(df.shape[0])\n",
        "print(df_mix.shape)\n",
        "# no ocean proximity, no feature engineering. total_bedrooms/total_rooms. households/population ... etc.\n",
        "df_x= df_mix[['housing_median_age','total_bedrooms','total_rooms','population','households','median_income']]\n",
        "df_y= df_mix['median_house_value']"
      ],
      "id": "9f7da657",
      "execution_count": null,
      "outputs": []
    },
    {
      "cell_type": "code",
      "metadata": {},
      "source": [
        "from sklearn.model_selection import train_test_split\n",
        "from sklearn.preprocessing import StandardScaler\n",
        "from sklearn.linear_model import LinearRegression\n",
        "\n",
        "x_train, x_test , y_train, y_test = train_test_split(df_x,df_y\n",
        ",test_size=0.20 \n",
        ",random_state=1) "
      ],
      "id": "e92cf096",
      "execution_count": null,
      "outputs": []
    },
    {
      "cell_type": "code",
      "metadata": {},
      "source": [
        "# What is math behind Scaler? Is training per variable? Yes? What can we do about dependent random variables?\n",
        "scaler = StandardScaler() \n",
        "x_train = scaler.fit_transform(x_train) \n",
        "x_test = scaler.transform(x_test) \n",
        "\n",
        "linear_model = LinearRegression() \n",
        "linear_model.fit(x_train,y_train)"
      ],
      "id": "f4e877ca",
      "execution_count": null,
      "outputs": []
    },
    {
      "cell_type": "markdown",
      "metadata": {},
      "source": [
        "# Model Evaluation"
      ],
      "id": "b23701c3"
    },
    {
      "cell_type": "code",
      "metadata": {},
      "source": [
        "from sklearn.metrics import mean_squared_error, r2_score\n",
        "\n",
        "y_pred = linear_model.predict(y_test)\n",
        "pred_train = linear_model.predict(x_train)\n",
        "print(\"Train RMSE: %.2f\" % mean_squared_error(y_train, pred_train,squared=False))\n",
        "print(\"Test RMSE: %.2f\" % mean_squared_error(y_test, y_pred,squared=False))\n",
        "print(\"Train Coefficient of determination: %.2f\" % r2_score(y_train, pred_train))\n",
        "print(\"Test Coefficient of determination: %.2f\" % r2_score(y_test, pred_test))\n",
        "# print(\"Train MAE: %.2f\" % mean_absolute_error(y_train, pred_train))\n",
        "# print(\"Test MAE: %.2f\" % mean_absolute_error(y_test, pred_test))"
      ],
      "id": "1fc52827",
      "execution_count": null,
      "outputs": []
    }
  ],
  "metadata": {
    "kernelspec": {
      "name": "python3",
      "language": "python",
      "display_name": "Python 3 (ipykernel)"
    }
  },
  "nbformat": 4,
  "nbformat_minor": 5
}